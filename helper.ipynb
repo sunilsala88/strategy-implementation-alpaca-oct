{
 "cells": [
  {
   "cell_type": "code",
   "execution_count": 1,
   "metadata": {},
   "outputs": [],
   "source": [
    "import random\n",
    "import time\n",
    "import datetime\n",
    "import pendulum as pdt\n",
    "import pandas as pd\n",
    "import pandas_ta as ta\n",
    "#getting all active orders\n",
    "from alpaca.trading.client import TradingClient\n",
    "from alpaca.trading.requests import GetOrdersRequest\n",
    "from alpaca.trading.enums import OrderSide, QueryOrderStatus\n",
    "import pandas as pd\n",
    "api_key='PKB872RM09BHVAMWPS9P'\n",
    "secret_key='yFTUvVwM5f9G0mrZJWFIZkZu5eF4mxbAq5b4wAFy'\n",
    "trading_client = TradingClient(api_key, secret_key, paper=True)\n",
    "\n",
    "\n",
    "from alpaca.data.historical import CryptoHistoricalDataClient\n",
    "# setup crypto historical data client\n",
    "crypto_historical_data_client = CryptoHistoricalDataClient()\n",
    "from zoneinfo import ZoneInfo\n",
    "from alpaca.data.requests import CryptoBarsRequest\n",
    "from alpaca.data.timeframe import TimeFrame, TimeFrameUnit\n",
    "from alpaca.trading.requests import MarketOrderRequest\n",
    "from alpaca.trading.enums import OrderSide, TimeInForce\n",
    "\n",
    "import logging\n",
    "logging.basicConfig(level=logging.INFO, filename=f'open_range_{datetime.date.today()}',filemode='w',format=\"%(asctime)s - %(message)s\")\n",
    "\n",
    "try:\n",
    "    order_filled_dataframe=pd.read_csv('order_filled_list.csv')\n",
    "    order_filled_dataframe.set_index('time',inplace=True)\n",
    "\n",
    "except:\n",
    "    column_names = ['time','ticker','price','action']\n",
    "    order_filled_dataframe = pd.DataFrame(columns=column_names)\n",
    "    order_filled_dataframe.set_index('time',inplace=True)\n",
    "\n",
    "\n",
    "tickers=[\"BTC/USD\",\"ETH/USD\"]"
   ]
  },
  {
   "cell_type": "code",
   "execution_count": 7,
   "metadata": {},
   "outputs": [
    {
     "name": "stdout",
     "output_type": "stream",
     "text": [
      "Collecting numpy==1.26.4\n",
      "  Using cached numpy-1.26.4-cp312-cp312-macosx_11_0_arm64.whl.metadata (61 kB)\n",
      "Using cached numpy-1.26.4-cp312-cp312-macosx_11_0_arm64.whl (13.7 MB)\n",
      "Installing collected packages: numpy\n",
      "  Attempting uninstall: numpy\n",
      "    Found existing installation: numpy 2.1.1\n",
      "    Uninstalling numpy-2.1.1:\n",
      "      Successfully uninstalled numpy-2.1.1\n",
      "Successfully installed numpy-1.26.4\n"
     ]
    }
   ],
   "source": [
    "!pip3 install numpy==1.26.4"
   ]
  },
  {
   "cell_type": "code",
   "execution_count": 1,
   "metadata": {},
   "outputs": [
    {
     "name": "stdout",
     "output_type": "stream",
     "text": [
      "Collecting pendulum\n",
      "  Using cached pendulum-3.0.0-cp312-cp312-macosx_11_0_arm64.whl.metadata (6.9 kB)\n",
      "Requirement already satisfied: python-dateutil>=2.6 in ./.venv/lib/python3.12/site-packages (from pendulum) (2.9.0.post0)\n",
      "Requirement already satisfied: tzdata>=2020.1 in ./.venv/lib/python3.12/site-packages (from pendulum) (2024.2)\n",
      "Collecting time-machine>=2.6.0 (from pendulum)\n",
      "  Using cached time_machine-2.15.0-cp312-cp312-macosx_11_0_arm64.whl.metadata (21 kB)\n",
      "Requirement already satisfied: six>=1.5 in ./.venv/lib/python3.12/site-packages (from python-dateutil>=2.6->pendulum) (1.16.0)\n",
      "Using cached pendulum-3.0.0-cp312-cp312-macosx_11_0_arm64.whl (352 kB)\n",
      "Using cached time_machine-2.15.0-cp312-cp312-macosx_11_0_arm64.whl (17 kB)\n",
      "Installing collected packages: time-machine, pendulum\n",
      "Successfully installed pendulum-3.0.0 time-machine-2.15.0\n"
     ]
    }
   ],
   "source": [
    "!pip3 install pendulum"
   ]
  },
  {
   "cell_type": "code",
   "execution_count": 2,
   "metadata": {},
   "outputs": [],
   "source": [
    "def trade_buy_stocks(ticker,closing_price):\n",
    "    print('placing market order')\n",
    "    # preparing orders\n",
    "    market_order_data = MarketOrderRequest(\n",
    "                        symbol=ticker,\n",
    "                        qty=1,\n",
    "                        side=OrderSide.BUY,\n",
    "                        time_in_force=TimeInForce.GTC\n",
    "                        )\n",
    "\n",
    "    # Market order\n",
    "    market_order = trading_client.submit_order(\n",
    "                    order_data=market_order_data\n",
    "                )\n",
    "    a=[ticker,closing_price,'BUY']\n",
    "    order_filled_dataframe.loc[pdt.now('UTC')] = a\n",
    "    order_filled_dataframe.to_csv('order_filled_list.csv')\n",
    "    "
   ]
  },
  {
   "cell_type": "code",
   "execution_count": 3,
   "metadata": {},
   "outputs": [],
   "source": [
    "from alpaca.data.requests import (\n",
    "    CryptoBarsRequest,\n",
    "    CryptoQuoteRequest,\n",
    "    CryptoTradesRequest,\n",
    "    CryptoLatestQuoteRequest\n",
    "    )\n",
    "\n",
    "def get_current_price_crypto(symbol):\n",
    "    crypto_historical_data_client = CryptoHistoricalDataClient()\n",
    "    req = CryptoLatestQuoteRequest(\n",
    "        symbol_or_symbols = [symbol],\n",
    "    )\n",
    "    res = crypto_historical_data_client.get_crypto_latest_quote(req)\n",
    "    cp=(res[symbol].ask_price+res[symbol].bid_price)/2\n",
    "    print(cp)\n",
    "    return cp"
   ]
  },
  {
   "cell_type": "code",
   "execution_count": 6,
   "metadata": {},
   "outputs": [
    {
     "name": "stdout",
     "output_type": "stream",
     "text": [
      "2643.7025000000003\n",
      "placing market order\n"
     ]
    }
   ],
   "source": [
    "p=get_current_price_crypto(tickers[1])\n",
    "trade_buy_stocks(tickers[1],p)"
   ]
  },
  {
   "cell_type": "code",
   "execution_count": 7,
   "metadata": {},
   "outputs": [
    {
     "name": "stdout",
     "output_type": "stream",
     "text": [
      "asset_id=UUID('35f33a69-f5d6-4dc9-b158-4485e5e92e4b') symbol='ETHUSD' exchange=<AssetExchange.CRYPTO: 'CRYPTO'> asset_class=<AssetClass.CRYPTO: 'crypto'> asset_marginable=False avg_entry_price='2644.2' qty='0.9978' side=<PositionSide.LONG: 'long'> market_value='2637.724212' cost_basis='2638.38276' unrealized_pl='-0.658548' unrealized_plpc='-0.0002496029044702' unrealized_intraday_pl='-0.658548' unrealized_intraday_plpc='-0.0002496029044702' current_price='2643.54' lastday_price='2669.9' change_today='-0.0098730289523952' swap_rate=None avg_entry_swap_rate=None usd=None qty_available='0.9978'\n",
      "id=UUID('f4e562ed-a244-4edb-8c25-96843b8105bd') client_order_id='aa7f16c1-78ad-4152-b838-191acb61a4bb' created_at=datetime.datetime(2024, 9, 29, 10, 37, 42, 112362, tzinfo=TzInfo(UTC)) updated_at=datetime.datetime(2024, 9, 29, 10, 37, 42, 113158, tzinfo=TzInfo(UTC)) submitted_at=datetime.datetime(2024, 9, 29, 10, 37, 42, 112362, tzinfo=TzInfo(UTC)) filled_at=None expired_at=None canceled_at=None failed_at=None replaced_at=None replaced_by=None replaces=None asset_id=UUID('a1733398-6acc-4e92-af24-0d0667f78713') symbol='ETH/USD' asset_class=<AssetClass.CRYPTO: 'crypto'> notional=None qty='0.9978' filled_qty='0' filled_avg_price=None order_class=<OrderClass.SIMPLE: 'simple'> order_type=<OrderType.MARKET: 'market'> type=<OrderType.MARKET: 'market'> side=<OrderSide.SELL: 'sell'> time_in_force=<TimeInForce.GTC: 'gtc'> limit_price=None stop_price=None status=<OrderStatus.PENDING_NEW: 'pending_new'> extended_hours=False legs=None trail_percent=None trail_price=None hwm=None\n",
      "position closed\n",
      "2643.7025000000003\n"
     ]
    }
   ],
   "source": [
    "\n",
    "def close_this_position(ticker_name):\n",
    "    try:\n",
    "        position = trading_client.get_open_position(ticker_name.replace('/',''))\n",
    "        print(position)\n",
    "        c=trading_client.close_position(ticker_name.replace('/',''))\n",
    "        print(c)\n",
    "        print('position closed')\n",
    "        p=get_current_price_crypto(ticker_name)\n",
    "        a=[ticker_name,p,c.side]\n",
    "        order_filled_dataframe.loc[pdt.now('UTC')] = a\n",
    "        order_filled_dataframe.to_csv('order_filled_list.csv')\n",
    "    except:\n",
    "        print('position does not exist')\n",
    "close_this_position(tickers[1])"
   ]
  },
  {
   "cell_type": "code",
   "execution_count": 22,
   "metadata": {},
   "outputs": [
    {
     "name": "stdout",
     "output_type": "stream",
     "text": [
      "asset_id=UUID('35f33a69-f5d6-4dc9-b158-4485e5e92e4b') symbol='ETHUSD' exchange=<AssetExchange.CRYPTO: 'CRYPTO'> asset_class=<AssetClass.CRYPTO: 'crypto'> asset_marginable=False avg_entry_price='2644.5' qty='0.9978' side=<PositionSide.LONG: 'long'> market_value='2635.010196' cost_basis='2638.6821' unrealized_pl='-3.671904' unrealized_plpc='-0.0013915674040461' unrealized_intraday_pl='-3.671904' unrealized_intraday_plpc='-0.0013915674040461' current_price='2640.82' lastday_price='2669.9' change_today='-0.0108917937001386' swap_rate=None avg_entry_swap_rate=None usd=None qty_available='0.9978'\n",
      "id=UUID('ff146005-8610-4fe0-9e45-eedd8c8ebac4') client_order_id='8d3688f8-acd0-4d95-8645-bc25ce6d8259' created_at=datetime.datetime(2024, 9, 29, 10, 33, 30, 681250, tzinfo=TzInfo(UTC)) updated_at=datetime.datetime(2024, 9, 29, 10, 33, 30, 682593, tzinfo=TzInfo(UTC)) submitted_at=datetime.datetime(2024, 9, 29, 10, 33, 30, 681250, tzinfo=TzInfo(UTC)) filled_at=None expired_at=None canceled_at=None failed_at=None replaced_at=None replaced_by=None replaces=None asset_id=UUID('a1733398-6acc-4e92-af24-0d0667f78713') symbol='ETH/USD' asset_class=<AssetClass.CRYPTO: 'crypto'> notional=None qty='0.9978' filled_qty='0' filled_avg_price=None order_class=<OrderClass.SIMPLE: 'simple'> order_type=<OrderType.MARKET: 'market'> type=<OrderType.MARKET: 'market'> side=<OrderSide.SELL: 'sell'> time_in_force=<TimeInForce.GTC: 'gtc'> limit_price=None stop_price=None status=<OrderStatus.PENDING_NEW: 'pending_new'> extended_hours=False legs=None trail_percent=None trail_price=None hwm=None\n",
      "position closed\n",
      "position does not exist\n"
     ]
    }
   ],
   "source": [
    "close_this_position(tickers[1].replace('/',''))"
   ]
  },
  {
   "cell_type": "code",
   "execution_count": 27,
   "metadata": {},
   "outputs": [
    {
     "name": "stdout",
     "output_type": "stream",
     "text": [
      "asset_id=UUID('35f33a69-f5d6-4dc9-b158-4485e5e92e4b') symbol='ETHUSD' exchange=<AssetExchange.CRYPTO: 'CRYPTO'> asset_class=<AssetClass.CRYPTO: 'crypto'> asset_marginable=False avg_entry_price='2643.56' qty='0.9978' side=<PositionSide.LONG: 'long'> market_value='2635.057093' cost_basis='2637.744168' unrealized_pl='-2.687075' unrealized_plpc='-0.001018701901647' unrealized_intraday_pl='-2.687075' unrealized_intraday_plpc='-0.001018701901647' current_price='2640.867' lastday_price='2669.9' change_today='-0.010874190044571' swap_rate=None avg_entry_swap_rate=None usd=None qty_available='0.9978'\n",
      "id=UUID('64980c8a-1ab6-4a2c-94b4-21db10201e18') client_order_id='ad0ed7cd-5b19-4bc7-81fa-feb75d6d53d1' created_at=datetime.datetime(2024, 9, 29, 10, 35, 16, 707579, tzinfo=TzInfo(UTC)) updated_at=datetime.datetime(2024, 9, 29, 10, 35, 16, 708766, tzinfo=TzInfo(UTC)) submitted_at=datetime.datetime(2024, 9, 29, 10, 35, 16, 707579, tzinfo=TzInfo(UTC)) filled_at=None expired_at=None canceled_at=None failed_at=None replaced_at=None replaced_by=None replaces=None asset_id=UUID('a1733398-6acc-4e92-af24-0d0667f78713') symbol='ETH/USD' asset_class=<AssetClass.CRYPTO: 'crypto'> notional=None qty='0.9978' filled_qty='0' filled_avg_price=None order_class=<OrderClass.SIMPLE: 'simple'> order_type=<OrderType.MARKET: 'market'> type=<OrderType.MARKET: 'market'> side=<OrderSide.SELL: 'sell'> time_in_force=<TimeInForce.GTC: 'gtc'> limit_price=None stop_price=None status=<OrderStatus.PENDING_NEW: 'pending_new'> extended_hours=False legs=None trail_percent=None trail_price=None hwm=None\n",
      "position closed\n",
      "2641.5845\n"
     ]
    }
   ],
   "source": [
    "ticker_name=tickers[1]\n",
    "position = trading_client.get_open_position(ticker_name.replace('/',''))\n",
    "print(position)\n",
    "c=trading_client.close_position(ticker_name.replace('/',''))\n",
    "print(c)\n",
    "print('position closed')\n",
    "p=get_current_price_crypto(ticker_name)\n",
    "a=[ticker_name,p,c.side]\n",
    "order_filled_dataframe.loc[pdt.now('UTC')] = a\n",
    "order_filled_dataframe.to_csv('order_filled_list.csv')"
   ]
  },
  {
   "cell_type": "code",
   "execution_count": 19,
   "metadata": {},
   "outputs": [
    {
     "data": {
      "text/plain": [
       "<OrderSide.SELL: 'sell'>"
      ]
     },
     "execution_count": 19,
     "metadata": {},
     "output_type": "execute_result"
    }
   ],
   "source": [
    "c.side"
   ]
  },
  {
   "cell_type": "code",
   "execution_count": null,
   "metadata": {},
   "outputs": [],
   "source": []
  }
 ],
 "metadata": {
  "kernelspec": {
   "display_name": "Python 3",
   "language": "python",
   "name": "python3"
  },
  "language_info": {
   "codemirror_mode": {
    "name": "ipython",
    "version": 3
   },
   "file_extension": ".py",
   "mimetype": "text/x-python",
   "name": "python",
   "nbconvert_exporter": "python",
   "pygments_lexer": "ipython3",
   "version": "3.12.2"
  }
 },
 "nbformat": 4,
 "nbformat_minor": 2
}
